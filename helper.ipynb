{
 "cells": [
  {
   "cell_type": "markdown",
   "metadata": {},
   "source": [
    "# Calculate Scale\n"
   ]
  },
  {
   "cell_type": "code",
   "execution_count": 12,
   "metadata": {},
   "outputs": [
    {
     "name": "stdout",
     "output_type": "stream",
     "text": [
      "data/TestProjects/Test/3D/IFC/IFC Schependomlaan.ifc\n",
      "Exception: name=dakopstand, exception=Failed to process shape\n",
      "Exception: name=dakopstand, exception=Failed to process shape\n",
      "Exception: name=dakopstand, exception=Failed to process shape\n",
      "Exception: name=dakopstand, exception=Failed to process shape\n",
      "data/TestProjects/TinyHouse_test/3D/IFC/TestHouse.ifc\n",
      "Exception: name=Default Grid, exception=Failed to process shape\n"
     ]
    }
   ],
   "source": [
    "from pathlib import Path\n",
    "\n",
    "import ifcopenshell\n",
    "import pandas as pd\n",
    "\n",
    "from utils import get_bounding_box, get_geometries, get_products_and_shapes\n",
    "\n",
    "# ifc_paths = list(Path(\"./data\").glob(\"*/*/*/*.ifc\"))\n",
    "ifc_paths = list(Path(\"./data\").glob(\"TestProjects/*/3D/IFC/*.ifc\"))\n",
    "bboxes = []\n",
    "for ifc_path in ifc_paths:\n",
    "    print(ifc_path)\n",
    "    ifc_file = ifcopenshell.open(ifc_path)\n",
    "    _, shapes = get_products_and_shapes(ifc_file.by_type(\"IfcProduct\"))\n",
    "    bbox = get_bounding_box(get_geometries(shapes))\n",
    "    bboxes.append([str(ifc_path), *bbox])\n",
    "df = pd.DataFrame(bboxes, columns=(\"ifc\", \"xmin\", \"ymin\", \"zmin\", \"xmax\", \"ymax\", \"zmax\"))\n",
    "df.to_csv(\"global_bboxes.csv\", index=False)"
   ]
  },
  {
   "cell_type": "code",
   "execution_count": null,
   "metadata": {},
   "outputs": [],
   "source": []
  }
 ],
 "metadata": {
  "kernelspec": {
   "display_name": "pyocc",
   "language": "python",
   "name": "python3"
  },
  "language_info": {
   "codemirror_mode": {
    "name": "ipython",
    "version": 3
   },
   "file_extension": ".py",
   "mimetype": "text/x-python",
   "name": "python",
   "nbconvert_exporter": "python",
   "pygments_lexer": "ipython3",
   "version": "3.11.4"
  }
 },
 "nbformat": 4,
 "nbformat_minor": 2
}
